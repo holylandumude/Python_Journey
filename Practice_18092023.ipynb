{
 "cells": [
  {
   "cell_type": "code",
   "execution_count": 8,
   "id": "580df34e",
   "metadata": {},
   "outputs": [
    {
     "name": "stdout",
     "output_type": "stream",
     "text": [
      "Enter  a: 2\n",
      "Enter  b: 4\n",
      "Enter  c: -46\n",
      "The solutions are 3.8989794855663558 or -5.898979485566356\n"
     ]
    }
   ],
   "source": [
    "import math\n",
    "\n",
    "# Get the coefficients from the provided Quadratic Equation:\n",
    "a = float(input(\"Enter  a: \"))\n",
    "b = float(input(\"Enter  b: \"))\n",
    "c = float(input(\"Enter  c: \"))\n",
    "\n",
    "# Calculate the discriminant\n",
    "d = (b**2) - (4*a*c)\n",
    "\n",
    "# Calculate the two solutions using the quadratic formula\n",
    "sol1 = (-b+math.sqrt(d))/(2*a)\n",
    "sol2 = (-b-math.sqrt(d))/(2*a)\n",
    "\n",
    "print(\"The solutions are {0} or {1}\".format(sol1,sol2))"
   ]
  },
  {
   "cell_type": "code",
   "execution_count": null,
   "id": "a8114ccd",
   "metadata": {},
   "outputs": [],
   "source": []
  }
 ],
 "metadata": {
  "kernelspec": {
   "display_name": "Python 3 (ipykernel)",
   "language": "python",
   "name": "python3"
  },
  "language_info": {
   "codemirror_mode": {
    "name": "ipython",
    "version": 3
   },
   "file_extension": ".py",
   "mimetype": "text/x-python",
   "name": "python",
   "nbconvert_exporter": "python",
   "pygments_lexer": "ipython3",
   "version": "3.11.4"
  }
 },
 "nbformat": 4,
 "nbformat_minor": 5
}
