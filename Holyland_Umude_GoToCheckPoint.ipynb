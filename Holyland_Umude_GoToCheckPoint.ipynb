{
 "cells": [
  {
   "cell_type": "code",
   "execution_count": 1,
   "id": "56d33c0b",
   "metadata": {},
   "outputs": [
    {
     "name": "stdout",
     "output_type": "stream",
     "text": [
      "Welcome to Python world! Let's start coding\n"
     ]
    }
   ],
   "source": [
    "print(\"Welcome to Python world! Let's start coding\")"
   ]
  },
  {
   "cell_type": "code",
   "execution_count": 2,
   "id": "a3f76ca1",
   "metadata": {},
   "outputs": [
    {
     "name": "stdout",
     "output_type": "stream",
     "text": [
      "enter the first number 5\n",
      "enter the second number 6\n",
      "enter the third number 4\n",
      "120\n"
     ]
    }
   ],
   "source": [
    "first_number = int(input('enter the first number '))\n",
    "second_number = int(input('enter the second number '))\n",
    "third_number = int(input('enter the third number '))\n",
    "product = first_number * second_number * third_number\n",
    "print(product)"
   ]
  },
  {
   "cell_type": "code",
   "execution_count": null,
   "id": "c0f6d623",
   "metadata": {},
   "outputs": [],
   "source": []
  }
 ],
 "metadata": {
  "kernelspec": {
   "display_name": "Python 3 (ipykernel)",
   "language": "python",
   "name": "python3"
  },
  "language_info": {
   "codemirror_mode": {
    "name": "ipython",
    "version": 3
   },
   "file_extension": ".py",
   "mimetype": "text/x-python",
   "name": "python",
   "nbconvert_exporter": "python",
   "pygments_lexer": "ipython3",
   "version": "3.11.4"
  }
 },
 "nbformat": 4,
 "nbformat_minor": 5
}
